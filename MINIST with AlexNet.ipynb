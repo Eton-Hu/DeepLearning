{
 "cells": [
  {
   "cell_type": "code",
   "execution_count": 1,
   "metadata": {
    "execution": {
     "iopub.execute_input": "2022-04-28T07:17:57.111694Z",
     "iopub.status.busy": "2022-04-28T07:17:57.111069Z",
     "iopub.status.idle": "2022-04-28T07:18:00.950646Z",
     "shell.execute_reply": "2022-04-28T07:18:00.949844Z",
     "shell.execute_reply.started": "2022-04-28T07:17:57.111604Z"
    }
   },
   "outputs": [],
   "source": [
    "# Import\n",
    "from collections import defaultdict\n",
    "import copy\n",
    "import random\n",
    "import os\n",
    "import shutil\n",
    "from urllib.request import urlretrieve\n",
    "import pandas as pd\n",
    "\n",
    "import albumentations as A\n",
    "from albumentations.pytorch import ToTensorV2\n",
    "import cv2\n",
    "import matplotlib.pyplot as plt\n",
    "from tqdm import tqdm\n",
    "import torch\n",
    "import torch.backends.cudnn as cudnn\n",
    "import torch.nn as nn\n",
    "import torch.optim\n",
    "from torch.utils.data import Dataset, DataLoader\n",
    "import torchvision.models as models\n",
    "\n",
    "import matplotlib.pyplot as plt\n",
    "#%matplotlib auto\n",
    "cudnn.benchmark = True\n",
    "cudnn.deterministic = True"
   ]
  },
  {
   "cell_type": "code",
   "execution_count": 2,
   "metadata": {
    "execution": {
     "iopub.execute_input": "2022-04-28T07:18:04.621635Z",
     "iopub.status.busy": "2022-04-28T07:18:04.621363Z",
     "iopub.status.idle": "2022-04-28T07:18:09.585314Z",
     "shell.execute_reply": "2022-04-28T07:18:09.584609Z",
     "shell.execute_reply.started": "2022-04-28T07:18:04.621605Z"
    }
   },
   "outputs": [
    {
     "data": {
      "text/plain": [
       "array([1, 0, 1, ..., 7, 6, 9], dtype=uint8)"
      ]
     },
     "execution_count": 2,
     "metadata": {},
     "output_type": "execute_result"
    }
   ],
   "source": [
    "# Read data from csv\n",
    "import numpy as np\n",
    "train_raw = pd.read_csv(os.path.join('../input/MINIST/MINIST','train.csv'))\n",
    "train_lable = train_raw.iloc[:,0]\n",
    "train_raw.drop(train_raw.columns[0],axis=1,inplace=True) \n",
    "test_raw = pd.read_csv(os.path.join('../input/MINIST/MINIST','test.csv'))\n",
    "train_raw = train_raw.values.astype(np.uint8)\n",
    "train_lable = train_lable.values.astype(np.uint8)\n",
    "test_raw = test_raw.values.astype(np.uint8)\n",
    "\n",
    "train_lable"
   ]
  },
  {
   "cell_type": "code",
   "execution_count": 3,
   "metadata": {
    "execution": {
     "iopub.execute_input": "2022-04-28T07:18:12.342250Z",
     "iopub.status.busy": "2022-04-28T07:18:12.341993Z",
     "iopub.status.idle": "2022-04-28T07:18:12.347560Z",
     "shell.execute_reply": "2022-04-28T07:18:12.346492Z",
     "shell.execute_reply.started": "2022-04-28T07:18:12.342221Z"
    }
   },
   "outputs": [
    {
     "name": "stdout",
     "output_type": "stream",
     "text": [
      "(28, 28)\n"
     ]
    }
   ],
   "source": [
    "# resize dataset\n",
    "train_x = train_raw.reshape(-1,28,28)\n",
    "print(train_x[0].shape)\n",
    "#cv2.imshow('first train image',train_x[0][0])\n",
    "#cv2.waitKey(0)"
   ]
  },
  {
   "cell_type": "code",
   "execution_count": 4,
   "metadata": {
    "execution": {
     "iopub.execute_input": "2022-04-28T07:18:14.821984Z",
     "iopub.status.busy": "2022-04-28T07:18:14.821439Z",
     "iopub.status.idle": "2022-04-28T07:18:15.838334Z",
     "shell.execute_reply": "2022-04-28T07:18:15.837614Z",
     "shell.execute_reply.started": "2022-04-28T07:18:14.821945Z"
    }
   },
   "outputs": [
    {
     "data": {
      "image/png": "[encoded data removed]",
      "text/plain": [
       "<Figure size 864x432 with 15 Axes>"
      ]
     },
     "metadata": {
      "needs_background": "light"
     },
     "output_type": "display_data"
    }
   ],
   "source": [
    "#显示样例\n",
    "class fig_iter():\n",
    "    def __init__(self,rows = 3,cols = 5):\n",
    "        _, self.figs =  plt.subplots(nrows=rows, ncols=cols, figsize=(12, 6))\n",
    "        self.axlist = list(self.figs.flat)\n",
    "        self.imgsize = rows * cols\n",
    "        \n",
    "    def step(self,images_list, lable_list,predicted_labels=()):\n",
    "        for i, image_i in enumerate(images_list[0:self.imgsize]):\n",
    "            self.axlist[i].cla()\n",
    "            true_label = lable_list[i]\n",
    "            predicted_label = predicted_labels[i] if predicted_labels else true_label\n",
    "            color = \"green\" if true_label == predicted_label else \"red\"\n",
    "            self.axlist[i].imshow(image_i)\n",
    "            self.axlist[i].set_title(predicted_label, color=color)\n",
    "            self.axlist[i].set_axis_off()\n",
    "        \n",
    "        plt.show()\n",
    "    \n",
    "display_iter = fig_iter()\n",
    "display_iter.step(train_x,train_lable)"
   ]
  },
  {
   "cell_type": "code",
   "execution_count": 5,
   "metadata": {
    "execution": {
     "iopub.execute_input": "2022-04-28T07:18:17.844776Z",
     "iopub.status.busy": "2022-04-28T07:18:17.842194Z",
     "iopub.status.idle": "2022-04-28T07:18:17.855051Z",
     "shell.execute_reply": "2022-04-28T07:18:17.854401Z",
     "shell.execute_reply.started": "2022-04-28T07:18:17.844727Z"
    }
   },
   "outputs": [],
   "source": [
    "#定义数据预处理方法\n",
    "img_prehandling = A.Compose([\n",
    "    # Resize the img as 64*64 formate\n",
    "    A.Normalize(mean=0.456, std=0.225),\n",
    "    A.Resize(64,64),\n",
    "    ToTensorV2()\n",
    "])\n",
    "\n",
    "img_augmentation_train = A.Compose([\n",
    "    A.Resize(64,64),\n",
    "    A.ShiftScaleRotate(shift_limit=0.05, scale_limit=0.05, rotate_limit=15, p=0.5),\n",
    "    A.Normalize(mean=0.456, std=0.225),\n",
    "    ToTensorV2()\n",
    "])\n",
    "\n",
    "img_augmentation_validation = A.Compose([\n",
    "    A.Resize(64,64),\n",
    "    A.Normalize(mean=0.456, std=0.225),\n",
    "    ToTensorV2()\n",
    "])"
   ]
  },
  {
   "cell_type": "code",
   "execution_count": 6,
   "metadata": {
    "execution": {
     "iopub.execute_input": "2022-04-28T07:18:20.701502Z",
     "iopub.status.busy": "2022-04-28T07:18:20.701247Z",
     "iopub.status.idle": "2022-04-28T07:18:20.709389Z",
     "shell.execute_reply": "2022-04-28T07:18:20.708609Z",
     "shell.execute_reply.started": "2022-04-28T07:18:20.701472Z"
    }
   },
   "outputs": [],
   "source": [
    "#定义备用的数据预处理方法\n",
    "img_prehandling2 = A.Compose([\n",
    "    # Resize the img as 28*28 formate\n",
    "    A.Normalize(mean=0.456, std=0.225),\n",
    "    A.Resize(28,28),\n",
    "    ToTensorV2()\n",
    "])\n",
    "\n",
    "img_augmentation_train2 = A.Compose([\n",
    "    A.Resize(28,28),\n",
    "    A.ShiftScaleRotate(shift_limit=0.05, scale_limit=0.05, rotate_limit=15, p=0.5),\n",
    "    A.Normalize(mean=0.456, std=0.225),\n",
    "    ToTensorV2()\n",
    "])\n",
    "\n",
    "img_augmentation_validation2 = A.Compose([\n",
    "    A.Resize(28,28),\n",
    "    A.Normalize(mean=0.456, std=0.225),\n",
    "    ToTensorV2()\n",
    "])"
   ]
  },
  {
   "cell_type": "code",
   "execution_count": 9,
   "metadata": {
    "execution": {
     "iopub.execute_input": "2022-04-28T07:19:11.289208Z",
     "iopub.status.busy": "2022-04-28T07:19:11.288943Z",
     "iopub.status.idle": "2022-04-28T07:19:11.307085Z",
     "shell.execute_reply": "2022-04-28T07:19:11.306306Z",
     "shell.execute_reply.started": "2022-04-28T07:19:11.289177Z"
    }
   },
   "outputs": [],
   "source": [
    "# 构建网络\n",
    "class AlexNet(nn.Module):\n",
    "    def __init__(self):\n",
    "        super(AlexNet,self).__init__()\n",
    "        self.features_cnn1 = nn.Sequential(\n",
    "            nn.Conv2d(1, 64, kernel_size=(3, 3), stride=(1, 1), padding=(1,1)),\n",
    "            nn.ReLU(inplace=True),\n",
    "            nn.MaxPool2d(kernel_size=3, stride=2, padding=0, dilation=1, ceil_mode=False)\n",
    "        )\n",
    "        \n",
    "        self.features_cnn2 = nn.Sequential(\n",
    "            nn.Conv2d(64, 64, kernel_size=(2, 2), stride=1, padding='same'),\n",
    "            nn.ReLU(inplace=True),\n",
    "            nn.MaxPool2d(kernel_size=3, stride=2, padding=0, dilation=1, ceil_mode=False)\n",
    "        )\n",
    "        \n",
    "        self.features_cnn3 = nn.Sequential(\n",
    "            nn.Conv2d(64, 192, kernel_size=(2, 2), stride=(1, 1), padding=(1, 1)),\n",
    "            nn.ReLU(inplace=True),\n",
    "            nn.Conv2d(192, 64, kernel_size=(2, 2), stride=(1, 1), padding=(1, 1)),\n",
    "            nn.ReLU(inplace=True),\n",
    "            nn.Conv2d(64, 20, kernel_size=(2, 2), stride=(1, 1), padding=(1, 1)),\n",
    "            nn.ReLU(inplace=True),\n",
    "            nn.MaxPool2d(kernel_size=3, stride=2, padding=0, dilation=1, ceil_mode=False)\n",
    "        )\n",
    "        \n",
    "        self.avgpool = nn.AdaptiveAvgPool2d(output_size=(12, 12))\n",
    "        \n",
    "        self.classifier_FC1 = nn.Sequential(\n",
    "            nn.Dropout(p=0.5, inplace=False),\n",
    "            nn.Linear(in_features=2880, out_features=1024, bias=True),\n",
    "            nn.ReLU(inplace=True)\n",
    "        )\n",
    "        \n",
    "        self.classifier_FC2 = nn.Sequential(\n",
    "            nn.Dropout(p=0.5, inplace=False),\n",
    "            nn.Linear(in_features=1024, out_features=64, bias=True),\n",
    "            nn.ReLU(inplace=True)\n",
    "        )\n",
    "\n",
    "        self.classifier_FC3 = nn.Sequential(\n",
    "            nn.Dropout(p=0.5, inplace=False),\n",
    "            nn.Linear(in_features=64, out_features=64, bias=True),\n",
    "            nn.ReLU(inplace=True)\n",
    "        )\n",
    "        \n",
    "        \n",
    "        self.classifier_FC4 = nn.Linear(in_features=64, out_features=10, bias=True)\n",
    "        \n",
    "        self.feature = nn.Sequential(\n",
    "            self.features_cnn1,\n",
    "            self.features_cnn2,\n",
    "            self.features_cnn3\n",
    "        )\n",
    "        \n",
    "        self.classifier = nn.Sequential(\n",
    "            self.classifier_FC1,\n",
    "            self.classifier_FC2,\n",
    "            #self.classifier_FC3,\n",
    "            self.classifier_FC4\n",
    "        )\n",
    "        \n",
    "    def forward(self,x):\n",
    "        x = self.feature(x)\n",
    "        x = self.avgpool(x)\n",
    "        x = x.reshape(-1,2880)\n",
    "        x = self.classifier(x)\n",
    "        x.pred = nn.Softmax()(x)\n",
    "        \n",
    "        return x.pred\n"
   ]
  },
  {
   "cell_type": "code",
   "execution_count": 10,
   "metadata": {
    "execution": {
     "iopub.execute_input": "2022-04-28T07:19:14.281298Z",
     "iopub.status.busy": "2022-04-28T07:19:14.281032Z",
     "iopub.status.idle": "2022-04-28T07:19:14.369051Z",
     "shell.execute_reply": "2022-04-28T07:19:14.368234Z",
     "shell.execute_reply.started": "2022-04-28T07:19:14.281267Z"
    }
   },
   "outputs": [
    {
     "name": "stdout",
     "output_type": "stream",
     "text": [
      "test size: torch.Size([1, 1, 28, 28])\n",
      "[7]\n",
      "tensor([[0.1033, 0.0916, 0.0993, 0.0961, 0.0992, 0.0975, 0.1014, 0.1106, 0.0922,\n",
      "         0.1088]], grad_fn=<SoftmaxBackward>)\n"
     ]
    },
    {
     "name": "stderr",
     "output_type": "stream",
     "text": [
      "/opt/conda/lib/python3.7/site-packages/ipykernel_launcher.py:68: UserWarning: Implicit dimension choice for softmax has been deprecated. Change the call to include dim=X as an argument.\n"
     ]
    },
    {
     "data": {
      "text/plain": [
       "array([7, 7])"
      ]
     },
     "execution_count": 10,
     "metadata": {},
     "output_type": "execute_result"
    }
   ],
   "source": [
    "# 测试网络\n",
    "model = AlexNet()\n",
    "test_module_data = torch.Tensor(img_prehandling2(image = train_x[0])[\"image\"].reshape(-1,1,28,28))\n",
    "#test_module_data = torch.cat([test_module_data,test_module_data,test_module_data],dim=1)\n",
    "x_featured = model(test_module_data)\n",
    "print(\"test size:\" ,test_module_data.size())\n",
    "#nn.CrossEntropyLoss()(x_featured,x_featured)\n",
    "x_featured.max(dim = 1)[1].cpu().numpy()\n",
    "arr = x_featured.max(dim = 1)[1].cpu().numpy()\n",
    "print(arr)\n",
    "print(x_featured)\n",
    "np.concatenate((arr,arr))"
   ]
  },
  {
   "cell_type": "code",
   "execution_count": 11,
   "metadata": {
    "execution": {
     "iopub.execute_input": "2022-04-28T07:19:19.441811Z",
     "iopub.status.busy": "2022-04-28T07:19:19.441270Z",
     "iopub.status.idle": "2022-04-28T07:19:19.451411Z",
     "shell.execute_reply": "2022-04-28T07:19:19.450537Z",
     "shell.execute_reply.started": "2022-04-28T07:19:19.441770Z"
    }
   },
   "outputs": [],
   "source": [
    "# 制作训练集\n",
    "class MINISTDataset(Dataset):\n",
    "    def __init__(self, images, labels, transform=None):\n",
    "        self.images = images\n",
    "        self.labels = torch.Tensor(labels)\n",
    "        self.transform = transform\n",
    "\n",
    "    def __len__(self):\n",
    "        return len(self.images)\n",
    "\n",
    "    def __getitem__(self, idx):\n",
    "        image = self.images[idx]\n",
    "        label = self.labels[idx]\n",
    "        if self.transform is not None:\n",
    "            image = self.transform(image=image)[\"image\"]\n",
    "            #image = torch.cat([image,image,image],dim=0)\n",
    "        return image,label\n",
    "\n",
    "# Leave 50 samples for validation\n",
    "train_dataset = MINISTDataset(images = train_x[0:-65],labels = train_lable[0:-65], transform= img_augmentation_train2)\n",
    "validation_dataset = MINISTDataset(images = train_x[-65:], labels = train_lable[-65:],transform= img_augmentation_validation2)\n",
    "test_dataset = MINISTDataset(images = test_raw.reshape(-1,28,28), labels = np.zeros((len(test_raw))),transform= img_augmentation_validation2)"
   ]
  },
  {
   "cell_type": "code",
   "execution_count": 12,
   "metadata": {
    "execution": {
     "iopub.execute_input": "2022-04-28T07:19:21.997135Z",
     "iopub.status.busy": "2022-04-28T07:19:21.996401Z",
     "iopub.status.idle": "2022-04-28T07:19:22.003770Z",
     "shell.execute_reply": "2022-04-28T07:19:22.003000Z",
     "shell.execute_reply.started": "2022-04-28T07:19:21.997096Z"
    }
   },
   "outputs": [],
   "source": [
    "# 定义hyper parameters\n",
    "params = {\n",
    "    \"model\": \"AlexNet\",\n",
    "    \"device\": \"cuda\",\n",
    "    \"lr\": 1e-4,\n",
    "    \"batch_size\": 64,\n",
    "    \"num_workers\": 0,\n",
    "    \"epochs\": 10,\n",
    "}"
   ]
  },
  {
   "cell_type": "code",
   "execution_count": 13,
   "metadata": {
    "execution": {
     "iopub.execute_input": "2022-04-28T07:19:24.701611Z",
     "iopub.status.busy": "2022-04-28T07:19:24.701326Z",
     "iopub.status.idle": "2022-04-28T07:19:24.707625Z",
     "shell.execute_reply": "2022-04-28T07:19:24.706769Z",
     "shell.execute_reply.started": "2022-04-28T07:19:24.701580Z"
    }
   },
   "outputs": [],
   "source": [
    "# 制作dataloader\n",
    "train_loader = DataLoader(\n",
    "    train_dataset, batch_size=params[\"batch_size\"], shuffle=True, num_workers=params[\"num_workers\"], pin_memory=True,\n",
    ")\n",
    "\n",
    "val_loader = DataLoader(\n",
    "    validation_dataset, batch_size=params[\"batch_size\"], shuffle=False, num_workers=params[\"num_workers\"], pin_memory=True,\n",
    ")\n",
    "\n",
    "test_loader = DataLoader(\n",
    "    test_dataset, batch_size=params[\"batch_size\"], shuffle=False, num_workers=params[\"num_workers\"], pin_memory=True,\n",
    ")"
   ]
  },
  {
   "cell_type": "code",
   "execution_count": 14,
   "metadata": {
    "execution": {
     "iopub.execute_input": "2022-04-28T07:19:27.561345Z",
     "iopub.status.busy": "2022-04-28T07:19:27.561082Z",
     "iopub.status.idle": "2022-04-28T07:19:27.620499Z",
     "shell.execute_reply": "2022-04-28T07:19:27.619680Z",
     "shell.execute_reply.started": "2022-04-28T07:19:27.561316Z"
    }
   },
   "outputs": [
    {
     "data": {
      "text/plain": [
       "AlexNet(\n",
       "  (features_cnn1): Sequential(\n",
       "    (0): Conv2d(1, 64, kernel_size=(3, 3), stride=(1, 1), padding=(1, 1))\n",
       "    (1): ReLU(inplace=True)\n",
       "    (2): MaxPool2d(kernel_size=3, stride=2, padding=0, dilation=1, ceil_mode=False)\n",
       "  )\n",
       "  (features_cnn2): Sequential(\n",
       "    (0): Conv2d(64, 64, kernel_size=(2, 2), stride=(1, 1), padding=same)\n",
       "    (1): ReLU(inplace=True)\n",
       "    (2): MaxPool2d(kernel_size=3, stride=2, padding=0, dilation=1, ceil_mode=False)\n",
       "  )\n",
       "  (features_cnn3): Sequential(\n",
       "    (0): Conv2d(64, 192, kernel_size=(2, 2), stride=(1, 1), padding=(1, 1))\n",
       "    (1): ReLU(inplace=True)\n",
       "    (2): Conv2d(192, 64, kernel_size=(2, 2), stride=(1, 1), padding=(1, 1))\n",
       "    (3): ReLU(inplace=True)\n",
       "    (4): Conv2d(64, 20, kernel_size=(2, 2), stride=(1, 1), padding=(1, 1))\n",
       "    (5): ReLU(inplace=True)\n",
       "    (6): MaxPool2d(kernel_size=3, stride=2, padding=0, dilation=1, ceil_mode=False)\n",
       "  )\n",
       "  (avgpool): AdaptiveAvgPool2d(output_size=(12, 12))\n",
       "  (classifier_FC1): Sequential(\n",
       "    (0): Dropout(p=0.5, inplace=False)\n",
       "    (1): Linear(in_features=2880, out_features=1024, bias=True)\n",
       "    (2): ReLU(inplace=True)\n",
       "  )\n",
       "  (classifier_FC2): Sequential(\n",
       "    (0): Dropout(p=0.5, inplace=False)\n",
       "    (1): Linear(in_features=1024, out_features=64, bias=True)\n",
       "    (2): ReLU(inplace=True)\n",
       "  )\n",
       "  (classifier_FC3): Sequential(\n",
       "    (0): Dropout(p=0.5, inplace=False)\n",
       "    (1): Linear(in_features=64, out_features=64, bias=True)\n",
       "    (2): ReLU(inplace=True)\n",
       "  )\n",
       "  (classifier_FC4): Linear(in_features=64, out_features=10, bias=True)\n",
       "  (feature): Sequential(\n",
       "    (0): Sequential(\n",
       "      (0): Conv2d(1, 64, kernel_size=(3, 3), stride=(1, 1), padding=(1, 1))\n",
       "      (1): ReLU(inplace=True)\n",
       "      (2): MaxPool2d(kernel_size=3, stride=2, padding=0, dilation=1, ceil_mode=False)\n",
       "    )\n",
       "    (1): Sequential(\n",
       "      (0): Conv2d(64, 64, kernel_size=(2, 2), stride=(1, 1), padding=same)\n",
       "      (1): ReLU(inplace=True)\n",
       "      (2): MaxPool2d(kernel_size=3, stride=2, padding=0, dilation=1, ceil_mode=False)\n",
       "    )\n",
       "    (2): Sequential(\n",
       "      (0): Conv2d(64, 192, kernel_size=(2, 2), stride=(1, 1), padding=(1, 1))\n",
       "      (1): ReLU(inplace=True)\n",
       "      (2): Conv2d(192, 64, kernel_size=(2, 2), stride=(1, 1), padding=(1, 1))\n",
       "      (3): ReLU(inplace=True)\n",
       "      (4): Conv2d(64, 20, kernel_size=(2, 2), stride=(1, 1), padding=(1, 1))\n",
       "      (5): ReLU(inplace=True)\n",
       "      (6): MaxPool2d(kernel_size=3, stride=2, padding=0, dilation=1, ceil_mode=False)\n",
       "    )\n",
       "  )\n",
       "  (classifier): Sequential(\n",
       "    (0): Sequential(\n",
       "      (0): Dropout(p=0.5, inplace=False)\n",
       "      (1): Linear(in_features=2880, out_features=1024, bias=True)\n",
       "      (2): ReLU(inplace=True)\n",
       "    )\n",
       "    (1): Sequential(\n",
       "      (0): Dropout(p=0.5, inplace=False)\n",
       "      (1): Linear(in_features=1024, out_features=64, bias=True)\n",
       "      (2): ReLU(inplace=True)\n",
       "    )\n",
       "    (2): Linear(in_features=64, out_features=10, bias=True)\n",
       "  )\n",
       ")"
      ]
     },
     "execution_count": 14,
     "metadata": {},
     "output_type": "execute_result"
    }
   ],
   "source": [
    "#根据网络层的不同定义不同的初始化方式     \n",
    "def weight_init(m):\n",
    "    if isinstance(m, nn.Linear):\n",
    "        nn.init.xavier_normal_(m.weight)\n",
    "        nn.init.constant_(m.bias, 0)\n",
    "    # 也可以判断是否为conv2d，使用相应的初始化方式 \n",
    "    elif isinstance(m, nn.Conv2d):\n",
    "        nn.init.kaiming_normal_(m.weight, mode='fan_out', nonlinearity='relu')\n",
    "     # 是否为批归一化层\n",
    "    elif isinstance(m, nn.BatchNorm2d):\n",
    "        nn.init.constant_(m.weight, 1)\n",
    "        nn.init.constant_(m.bias, 0)\n",
    "        \n",
    "# 将weight_init应用在子模块上\n",
    "model.apply(weight_init)\n",
    "#list(model.named_parameters())"
   ]
  },
  {
   "cell_type": "code",
   "execution_count": 15,
   "metadata": {
    "execution": {
     "iopub.execute_input": "2022-04-28T07:19:32.691764Z",
     "iopub.status.busy": "2022-04-28T07:19:32.691489Z",
     "iopub.status.idle": "2022-04-28T07:19:35.542405Z",
     "shell.execute_reply": "2022-04-28T07:19:35.541683Z",
     "shell.execute_reply.started": "2022-04-28T07:19:32.691735Z"
    }
   },
   "outputs": [],
   "source": [
    "# make model\n",
    "model = model.to(params[\"device\"])\n",
    "criterion = nn.CrossEntropyLoss().to(params[\"device\"])\n",
    "optimizer = torch.optim.Adam(model.parameters(), lr=params[\"lr\"])"
   ]
  },
  {
   "cell_type": "code",
   "execution_count": 16,
   "metadata": {
    "execution": {
     "iopub.execute_input": "2022-04-28T07:19:48.532619Z",
     "iopub.status.busy": "2022-04-28T07:19:48.532346Z",
     "iopub.status.idle": "2022-04-28T07:20:42.851233Z",
     "shell.execute_reply": "2022-04-28T07:20:42.850512Z",
     "shell.execute_reply.started": "2022-04-28T07:19:48.532589Z"
    }
   },
   "outputs": [
    {
     "name": "stdout",
     "output_type": "stream",
     "text": [
      "pred: [3 1 2 1 1 4 5 8 4 9 7 9 4 8 7 4 1 1 4 1 3 4 7 2 9 1 8 9 2 8 2 4 6 0 9 2 3\n",
      " 4 4 3 9 2 4 4 4 7 2 8 7 3 3 0 5 0 5 3 1 9 6 4 0 1 7 6]\n",
      "real: tensor([3., 1., 2., 1., 1., 4., 5., 5., 4., 9., 7., 9., 4., 8., 7., 4., 1., 1.,\n",
      "        4., 1., 3., 4., 7., 2., 9., 1., 8., 9., 2., 8., 2., 4., 6., 0., 9., 2.,\n",
      "        3., 4., 4., 3., 9., 2., 4., 4., 4., 7., 2., 8., 7., 3., 3., 0., 5., 0.,\n",
      "        5., 3., 1., 9., 6., 4., 0., 1., 7., 6.], device='cuda:0')\n",
      "Epoch:  4 | train loss: 1.4701 | test accuracy: 0.98\n"
     ]
    },
    {
     "data": {
      "image/png": "[encoded data removed]",
      "text/plain": [
       "<Figure size 432x288 with 1 Axes>"
      ]
     },
     "metadata": {
      "needs_background": "light"
     },
     "output_type": "display_data"
    }
   ],
   "source": [
    "#开始训练\n",
    "os.environ['CUDA_LAUNCH_BLOCKING'] = \"1\"\n",
    "from IPython import display\n",
    "\n",
    "EPOCH = 5\n",
    "loss_trend = list()\n",
    "acc_trend = list()\n",
    "model.to(params[\"device\"])\n",
    "criterion = criterion.to(params[\"device\"])\n",
    "\n",
    "#training and testing\n",
    "for epoch in range(EPOCH):\n",
    "    for step, (x, y) in enumerate(train_loader):   # gives batch data, normalize x when iterate train_loader\n",
    "        b_x = torch.autograd.Variable(x.to(params[\"device\"]))   # batch x\n",
    "        b_y = torch.autograd.Variable(y.to(params[\"device\"]))   # batch y\n",
    "        \n",
    "        #plt.imshow(torch.cat([b_x,b_x,b_x],dim=1).cpu())\n",
    "\n",
    "        output = model(b_x)\n",
    "        \n",
    "        loss = criterion(output, b_y.long())\n",
    "        optimizer.zero_grad()           # clear gradients for this training step\n",
    "        loss.backward()                 # backpropagation, compute gradients\n",
    "        optimizer.step()                # apply gradients\n",
    "        loss = loss.item()\n",
    "        \n",
    "        #训练中显示精度或者保存网络，这里没有进行网络的保存\n",
    "        if step % 100 == 0:\n",
    "            display.clear_output(wait=True)\n",
    "            _, (x_v, y_v) = next(iter(enumerate(val_loader)))\n",
    "            x_v = torch.autograd.Variable(x_v.to(params[\"device\"]))   # batch x\n",
    "            y_v = torch.autograd.Variable(y_v.to(params[\"device\"]))   # batch y\n",
    "            \n",
    "            test_output = model(x_v)\n",
    "            pred_y = test_output.max(dim = 1)[1].cpu().numpy()\n",
    "            print(\"pred:\",pred_y)\n",
    "            print(\"real:\",y_v)\n",
    "            #print(pred_y == y_v.cpu().numpy())\n",
    "            #print(\"This real = \", b_y)\n",
    "            #print(\"This pred = \", output)\n",
    "            \n",
    "            \n",
    "            accuracy = (pred_y == y_v.cpu().numpy()).sum().item() / float(y_v.size(0))\n",
    "            print('Epoch: ', epoch, '| train loss: %.4f' % loss, '| test accuracy: %.2f' % accuracy)\n",
    "            loss_trend.append(loss)\n",
    "            acc_trend.append(accuracy)\n",
    "            plt.plot(loss_trend)\n",
    "            plt.show()\n",
    "            del x_v\n",
    "            del y_v\n",
    "            del test_output\n",
    "            del output\n",
    "            del b_x\n",
    "            del b_y\n",
    "    plt.ioff()"
   ]
  },
  {
   "cell_type": "code",
   "execution_count": 17,
   "metadata": {
    "execution": {
     "iopub.execute_input": "2022-04-28T07:20:54.187593Z",
     "iopub.status.busy": "2022-04-28T07:20:54.187319Z",
     "iopub.status.idle": "2022-04-28T07:20:56.775856Z",
     "shell.execute_reply": "2022-04-28T07:20:56.775121Z",
     "shell.execute_reply.started": "2022-04-28T07:20:54.187557Z"
    }
   },
   "outputs": [
    {
     "name": "stderr",
     "output_type": "stream",
     "text": [
      "/opt/conda/lib/python3.7/site-packages/ipykernel_launcher.py:68: UserWarning: Implicit dimension choice for softmax has been deprecated. Change the call to include dim=X as an argument.\n"
     ]
    },
    {
     "name": "stdout",
     "output_type": "stream",
     "text": [
      "step =  0\n",
      "step =  50\n",
      "step =  100\n",
      "step =  150\n",
      "step =  200\n",
      "step =  250\n",
      "step =  300\n",
      "step =  350\n",
      "step =  400\n"
     ]
    }
   ],
   "source": [
    "#开始预测\n",
    "predictions = np.array([])\n",
    "next(iter(enumerate(test_loader)))\n",
    "# Generate test results\n",
    "for step, (x , y) in enumerate(test_loader):\n",
    "    b_x = torch.autograd.Variable(x).to(params[\"device\"])\n",
    "\n",
    "    output = model(b_x)\n",
    "    \n",
    "    if step % 50 == 0:\n",
    "        print(\"step = \", step)\n",
    "    \n",
    "    #转化为numpy\n",
    "    temp_arr = output.max(dim = 1)[1].cpu().numpy()\n",
    "    predictions = np.concatenate((predictions,temp_arr))"
   ]
  },
  {
   "cell_type": "code",
   "execution_count": 18,
   "metadata": {
    "execution": {
     "iopub.execute_input": "2022-04-28T07:21:00.296150Z",
     "iopub.status.busy": "2022-04-28T07:21:00.295891Z",
     "iopub.status.idle": "2022-04-28T07:21:00.301016Z",
     "shell.execute_reply": "2022-04-28T07:21:00.300350Z",
     "shell.execute_reply.started": "2022-04-28T07:21:00.296120Z"
    }
   },
   "outputs": [
    {
     "data": {
      "text/plain": [
       "(28000,)"
      ]
     },
     "execution_count": 18,
     "metadata": {},
     "output_type": "execute_result"
    }
   ],
   "source": [
    "predictions.shape"
   ]
  },
  {
   "cell_type": "code",
   "execution_count": 19,
   "metadata": {
    "execution": {
     "iopub.execute_input": "2022-04-28T07:21:02.701857Z",
     "iopub.status.busy": "2022-04-28T07:21:02.701366Z",
     "iopub.status.idle": "2022-04-28T07:21:02.743097Z",
     "shell.execute_reply": "2022-04-28T07:21:02.742366Z",
     "shell.execute_reply.started": "2022-04-28T07:21:02.701821Z"
    }
   },
   "outputs": [],
   "source": [
    "## 保存模型\n",
    "torch.save(model, 'model_name.pth')\n"
   ]
  },
  {
   "cell_type": "code",
   "execution_count": 20,
   "metadata": {
    "execution": {
     "iopub.execute_input": "2022-04-28T07:21:04.862698Z",
     "iopub.status.busy": "2022-04-28T07:21:04.862070Z",
     "iopub.status.idle": "2022-04-28T07:21:04.942089Z",
     "shell.execute_reply": "2022-04-28T07:21:04.941413Z",
     "shell.execute_reply.started": "2022-04-28T07:21:04.862658Z"
    }
   },
   "outputs": [
    {
     "data": {
      "text/html": [
       "<div>\n",
       "<style scoped>\n",
       "    .dataframe tbody tr th:only-of-type {\n",
       "        vertical-align: middle;\n",
       "    }\n",
       "\n",
       "    .dataframe tbody tr th {\n",
       "        vertical-align: top;\n",
       "    }\n",
       "\n",
       "    .dataframe thead th {\n",
       "        text-align: right;\n",
       "    }\n",
       "</style>\n",
       "<table border=\"1\" class=\"dataframe\">\n",
       "  <thead>\n",
       "    <tr style=\"text-align: right;\">\n",
       "      <th></th>\n",
       "      <th>Label</th>\n",
       "    </tr>\n",
       "    <tr>\n",
       "      <th>ImageId</th>\n",
       "      <th></th>\n",
       "    </tr>\n",
       "  </thead>\n",
       "  <tbody>\n",
       "    <tr>\n",
       "      <th>1</th>\n",
       "      <td>2</td>\n",
       "    </tr>\n",
       "    <tr>\n",
       "      <th>2</th>\n",
       "      <td>0</td>\n",
       "    </tr>\n",
       "    <tr>\n",
       "      <th>3</th>\n",
       "      <td>9</td>\n",
       "    </tr>\n",
       "    <tr>\n",
       "      <th>4</th>\n",
       "      <td>9</td>\n",
       "    </tr>\n",
       "    <tr>\n",
       "      <th>5</th>\n",
       "      <td>3</td>\n",
       "    </tr>\n",
       "    <tr>\n",
       "      <th>...</th>\n",
       "      <td>...</td>\n",
       "    </tr>\n",
       "    <tr>\n",
       "      <th>27996</th>\n",
       "      <td>9</td>\n",
       "    </tr>\n",
       "    <tr>\n",
       "      <th>27997</th>\n",
       "      <td>7</td>\n",
       "    </tr>\n",
       "    <tr>\n",
       "      <th>27998</th>\n",
       "      <td>3</td>\n",
       "    </tr>\n",
       "    <tr>\n",
       "      <th>27999</th>\n",
       "      <td>9</td>\n",
       "    </tr>\n",
       "    <tr>\n",
       "      <th>28000</th>\n",
       "      <td>2</td>\n",
       "    </tr>\n",
       "  </tbody>\n",
       "</table>\n",
       "<p>28000 rows × 1 columns</p>\n",
       "</div>"
      ],
      "text/plain": [
       "         Label\n",
       "ImageId       \n",
       "1            2\n",
       "2            0\n",
       "3            9\n",
       "4            9\n",
       "5            3\n",
       "...        ...\n",
       "27996        9\n",
       "27997        7\n",
       "27998        3\n",
       "27999        9\n",
       "28000        2\n",
       "\n",
       "[28000 rows x 1 columns]"
      ]
     },
     "execution_count": 20,
     "metadata": {},
     "output_type": "execute_result"
    }
   ],
   "source": [
    "## 保存数据\n",
    "submission = pd.read_csv('../input/MINIST/sample_submission.csv')\n",
    "submission.iloc[:,1] = predictions.astype(np.int16)\n",
    "submission.set_index([\"ImageId\"], inplace=True)\n",
    "submission.to_csv('submission.csv')\n",
    "submission\n"
   ]
  }
 ],
 "metadata": {
  "kernelspec": {
   "display_name": "Python 3 (ipykernel)",
   "language": "python",
   "name": "python3"
  },
  "language_info": {
   "codemirror_mode": {
    "name": "ipython",
    "version": 3
   },
   "file_extension": ".py",
   "mimetype": "text/x-python",
   "name": "python",
   "nbconvert_exporter": "python",
   "pygments_lexer": "ipython3",
   "version": "3.9.7"
  }
 },
 "nbformat": 4,
 "nbformat_minor": 4
}
